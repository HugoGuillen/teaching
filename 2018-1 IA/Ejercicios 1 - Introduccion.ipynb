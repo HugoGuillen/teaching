{
 "cells": [
  {
   "cell_type": "markdown",
   "metadata": {},
   "source": [
    "# Ejercicios introductorios a Python 3.\n",
    "## Hugo Armando Guillén Ramírez\n",
    "---\n",
    "### Algunas funciones útiles\n",
    "\n",
    "- Revisar si el tipo de una variable es `float`\n",
    "```python\n",
    "if type(x) is float:\n",
    "    pass\n",
    "```\n",
    "\n",
    "- La librería `random` permite trabajar con números aleatorios, y `math` contiene muchas funciones matemáticas.\n",
    "\n",
    "- Para acceder a las funciones de plotting ejecute la siguiente importación:\n",
    "```python\n",
    "import matplotlib.pyplot as plt\n",
    "```"
   ]
  },
  {
   "cell_type": "markdown",
   "metadata": {},
   "source": [
    "# Hipotenusa\n",
    "---\n",
    "\n",
    "Dados dos enteros positivos `a` y `b` menores que 1000, devolver la longitud de la hipotenusa del triángulo rectángulo con catetos `a` y `b`.\n",
    "\n",
    "**Sample input**\n",
    "\n",
    "```bash\n",
    "3 5\n",
    "```\n",
    "\n",
    "**Sample output**\n",
    "\n",
    "```bash\n",
    "34\n",
    "```"
   ]
  },
  {
   "cell_type": "code",
   "execution_count": null,
   "metadata": {
    "collapsed": true
   },
   "outputs": [],
   "source": [
    "def hypotenuse(a, b):\n",
    "    #Codigo aqui\n",
    "    return \n",
    "\n",
    "a = int(input())\n",
    "b = int(input())\n",
    "print(hypotenuse(a, b))"
   ]
  },
  {
   "cell_type": "code",
   "execution_count": null,
   "metadata": {
    "collapsed": true
   },
   "outputs": [],
   "source": [
    "def hypotenuse_from_file(input_file):\n",
    "    #Codigo aqui\n",
    "    return\n",
    "\n",
    "input_file = r'data/hypotenuse.txt'\n",
    "print(hypotenuse_from_file(input_file))"
   ]
  },
  {
   "cell_type": "markdown",
   "metadata": {},
   "source": [
    "# Suma de los dígitos de un entero\n",
    "---\n",
    "Dado un entero `i`, devolver la suma de sus dígitos."
   ]
  },
  {
   "cell_type": "code",
   "execution_count": null,
   "metadata": {
    "collapsed": true
   },
   "outputs": [],
   "source": [
    "#Codigo aqui"
   ]
  },
  {
   "cell_type": "markdown",
   "metadata": {},
   "source": [
    "# Suma impar\n",
    "---\n",
    "\n",
    "Dados dos enteros positivos  `a` y `b` `(a<b<10000)`, devolver la suma de todos los enteros impares entre `a` y `b` inclusivos.\n",
    "\n",
    "**Sample input**\n",
    "\n",
    "```bash\n",
    "100 200\n",
    "```\n",
    "\n",
    "**Sample output**\n",
    "\n",
    "```bash\n",
    "7500\n",
    "```"
   ]
  },
  {
   "cell_type": "code",
   "execution_count": null,
   "metadata": {
    "collapsed": true
   },
   "outputs": [],
   "source": [
    "#Codigo aqui"
   ]
  },
  {
   "cell_type": "markdown",
   "metadata": {},
   "source": [
    "# Contando consonantes y vocales\n",
    "---\n",
    "\n",
    "Dada una cadena s, devolver el número de vocales y el número de consonantes que contiene."
   ]
  },
  {
   "cell_type": "code",
   "execution_count": null,
   "metadata": {
    "collapsed": true
   },
   "outputs": [],
   "source": [
    "#Codigo aqui"
   ]
  },
  {
   "cell_type": "markdown",
   "metadata": {},
   "source": [
    "# Contando palabras\n",
    "---\n",
    "\n",
    "Dada una cadena `s`, devolver el número de ocurrencias de cada palabra en `s` ."
   ]
  },
  {
   "cell_type": "code",
   "execution_count": null,
   "metadata": {
    "collapsed": true
   },
   "outputs": [],
   "source": [
    "#Codigo aqui"
   ]
  },
  {
   "cell_type": "markdown",
   "metadata": {},
   "source": [
    "---\n",
    "\n",
    "---\n",
    "Los siguientes ejercicios son consecutivos.\n",
    "\n",
    "# Lista aleatoria\n",
    "---\n",
    "\n",
    "Genere una lista `L` con 10 elementos aleatorios entre -100 y 100. Utilice como semilla 69."
   ]
  },
  {
   "cell_type": "code",
   "execution_count": null,
   "metadata": {
    "collapsed": true
   },
   "outputs": [],
   "source": [
    "#Codigo aqui"
   ]
  },
  {
   "cell_type": "markdown",
   "metadata": {},
   "source": [
    "# Promedio\n",
    "---\n",
    "Devolver el promedio de los valores de `L`."
   ]
  },
  {
   "cell_type": "code",
   "execution_count": null,
   "metadata": {
    "collapsed": true
   },
   "outputs": [],
   "source": [
    "#Codigo aqui"
   ]
  },
  {
   "cell_type": "markdown",
   "metadata": {},
   "source": [
    "# Inversión\n",
    "---\n",
    "\n",
    "Invierta la lista `L`"
   ]
  },
  {
   "cell_type": "code",
   "execution_count": null,
   "metadata": {
    "collapsed": true
   },
   "outputs": [],
   "source": [
    "#Codigo aqui"
   ]
  },
  {
   "cell_type": "markdown",
   "metadata": {},
   "source": [
    "# Sobremuestreo\n",
    "---\n",
    "\n",
    "Genere una función que genere una lista de `n` elementos tomados aleatoriamente de `L` (con reemplazo).\n",
    "\n",
    "Genere una lista `L2 = su_funcion(L,100)`"
   ]
  },
  {
   "cell_type": "code",
   "execution_count": null,
   "metadata": {
    "collapsed": true
   },
   "outputs": [],
   "source": [
    "#Codigo aqui"
   ]
  },
  {
   "cell_type": "markdown",
   "metadata": {},
   "source": [
    "# Eliminar duplicados\n",
    "---\n",
    "\n",
    "Encuentre los elementos únicos de la lista `L2`."
   ]
  },
  {
   "cell_type": "code",
   "execution_count": null,
   "metadata": {
    "collapsed": true
   },
   "outputs": [],
   "source": [
    "#Codigo aqui"
   ]
  },
  {
   "cell_type": "markdown",
   "metadata": {},
   "source": [
    "# List comprehension\n",
    "---\n",
    "Utilize comprensión de listas para obtener 3 sublistas que contengan los números negativos, ceros, \n",
    "y positivos respectivamente de la lista `L`."
   ]
  },
  {
   "cell_type": "code",
   "execution_count": null,
   "metadata": {
    "collapsed": true
   },
   "outputs": [],
   "source": [
    "#Codigo aqui"
   ]
  },
  {
   "cell_type": "markdown",
   "metadata": {},
   "source": [
    "# Graficación\n",
    "---\n",
    "Genere una lista `M` con 10 enteros aleatorios entre -100 y 100. Utilice como semilla 42.\n",
    "\n",
    "Cree una lista de 10 puntos `P` tales que $P_i = (L_i,M_i)$.\n",
    "Muestre los puntos P mediante un plot de scatter."
   ]
  },
  {
   "cell_type": "code",
   "execution_count": null,
   "metadata": {
    "collapsed": true
   },
   "outputs": [],
   "source": [
    "#Codigo aqui"
   ]
  },
  {
   "cell_type": "markdown",
   "metadata": {},
   "source": [
    "Muestre los puntos P mediante un plot de linea."
   ]
  },
  {
   "cell_type": "code",
   "execution_count": null,
   "metadata": {
    "collapsed": true
   },
   "outputs": [],
   "source": [
    "#Codigo aqui"
   ]
  },
  {
   "cell_type": "markdown",
   "metadata": {},
   "source": [
    "---\n",
    "\n",
    "---\n",
    "# Grafos\n",
    "---\n",
    "Cree una clase que le permita manipular grafos dirigidos utilizando la representación de lista de adyacencia.\n",
    "\n",
    "*Pista: la lista de adyacencia puede ser un diccionario (que casualmente se llame `self.edges`).*"
   ]
  },
  {
   "cell_type": "code",
   "execution_count": null,
   "metadata": {
    "collapsed": true
   },
   "outputs": [],
   "source": [
    "class Grafo:\n",
    "    \n",
    "    def __init__(self):\n",
    "        #Codigo aqui\n",
    "        pass\n",
    "    \n",
    "    def add_vertex(self,v):\n",
    "        #Codigo aqui\n",
    "        pass\n",
    "    \n",
    "    def add_edge(self,e):\n",
    "        #Codigo aqui\n",
    "        pass\n",
    "    \n",
    "    def del_vertex(self,v):\n",
    "        #Codigo aqui\n",
    "        pass\n",
    "    \n",
    "    def del_edge(self,e):\n",
    "        #Codigo aqui\n",
    "        pass\n",
    "    \n",
    "    def vertices(self):\n",
    "        return list(self.edges.keys())\n",
    "    \n",
    "    def edge_list(self):\n",
    "        return [(k,v) for k in self.edges.keys() for v in self.edges[k] if len(self.edges[k]) > 0]\n",
    "    \n",
    "    def __str__(self):\n",
    "        s=''\n",
    "        for v in sorted(self.edges.keys()):\n",
    "            s+=v+'\\t--> '+', '.join(self.edges[v])+'\\n'\n",
    "        if s=='':\n",
    "            return 'Empty graph.'\n",
    "        return s"
   ]
  },
  {
   "cell_type": "markdown",
   "metadata": {},
   "source": [
    "Utilizando su clase `Grafo`, haga un grafo `G` que represente la cadena alimentaria.\n",
    "\n",
    "![Cadena](cadenaalimenticia.jpg)\n"
   ]
  },
  {
   "cell_type": "code",
   "execution_count": null,
   "metadata": {
    "collapsed": true
   },
   "outputs": [],
   "source": [
    "print(G)"
   ]
  },
  {
   "cell_type": "code",
   "execution_count": null,
   "metadata": {
    "collapsed": true
   },
   "outputs": [],
   "source": [
    "G.vertices()"
   ]
  },
  {
   "cell_type": "code",
   "execution_count": null,
   "metadata": {
    "collapsed": true
   },
   "outputs": [],
   "source": [
    "G.edge_list()"
   ]
  }
 ],
 "metadata": {
  "kernelspec": {
   "display_name": "Python 3",
   "language": "python",
   "name": "python3"
  },
  "language_info": {
   "codemirror_mode": {
    "name": "ipython",
    "version": 3
   },
   "file_extension": ".py",
   "mimetype": "text/x-python",
   "name": "python",
   "nbconvert_exporter": "python",
   "pygments_lexer": "ipython3",
   "version": "3.6.3"
  }
 },
 "nbformat": 4,
 "nbformat_minor": 2
}
